{
 "cells": [
  {
   "cell_type": "markdown",
   "metadata": {},
   "source": [
    "# Multi-Dimension Scaling \n",
    "is a distance-preserving manifold learning method. All manifold learning algorithms assume the dataset lies on a smooth, non linear manifold of low dimension and that a mapping f: $R^{D}$ -> $R^{d}$ (D>>d) can be found by preserving one or more properties of the higher dimension space. Distance preserving methods assume that a manifold can be defined by the pairwise distances of its points. In distance preserving methods, a low dimensional embedding is obtained from the higher dimension in such a way that pairwise distances between the points remain same. Some distance preserving methods preserve spatial distances (MDS) while some preserve graph distances."
   ]
  },
  {
   "cell_type": "markdown",
   "metadata": {},
   "source": [
    "MDS is not a single method but a family of methods. MDS takes a dissimilarity matrix $D$ where $D_{ij}$ represents the dissimilarity between points $i$ and $j$ and produces a mapping on a lower dimension, preserving the dissimilarities as closely as possible. The dissimilarity matrix could be observed or calculated from the given dataset."
   ]
  },
  {
   "cell_type": "markdown",
   "metadata": {},
   "source": [
    "MDS can be divided into two categories:\n",
    "\n",
    "- **Metric MDS** - Metric MDS is used for quantitative data and tries to preserve the original dissimilarity metrics. \n",
    "\n",
    "- **Non-Metric MDS** - Non-metric MDS is used for ordinal data. It tries to keep the order of dissimialrity metrics intact."
   ]
  },
  {
   "cell_type": "markdown",
   "metadata": {},
   "source": [
    "# t-Distributed Stochastic Neighbor Embedding (t-SNE)\n",
    "\n",
    "t-Distributed Stochastic Neighbor Embedding (t-SNE) is a non-linear technique for dimensionality reduction that is particularly well suited for the visualization of high-dimensional datasets. It is extensively applied in image processing, NLP, genomic data and speech processing. To keep things simple, here’s a brief overview of working of t-SNE:\n",
    "\n",
    "- The algorithms starts by calculating the probability of similarity of points in high-dimensional space and calculating the probability of similarity of points in the corresponding low-dimensional space. The similarity of points is calculated as the conditional probability that a point A would choose point B as its neighbor if neighbors were picked in proportion to their probability density under a Gaussian (normal distribution) centered at A.\n",
    "\n",
    "- It then tries to minimize the difference between these conditional probabilities (or similarities) in higher-dimensional and lower-dimensional space for a perfect representation of data points in lower-dimensional space.\n",
    "\n",
    "- To measure the minimization of the sum of difference of conditional probability t-SNE minimizes the sum of Kullback-Leibler divergence of overall data points using a gradient descent method.\n",
    "\n",
    "\n",
    "In simpler terms, t-Distributed stochastic neighbor embedding (t-SNE) minimizes the divergence between two distributions: a distribution that measures pairwise similarities of the input objects and a distribution that measures pairwise similarities of the corresponding low-dimensional points in the embedding.\n",
    "\n",
    "In this way, t-SNE maps the multi-dimensional data to a lower dimensional space and attempts to find patterns in the data by identifying observed clusters based on similarity of data points with multiple features. However, after this process, the input features are no longer identifiable, and you cannot make any inference based only on the output of t-SNE. Hence it is mainly a data exploration and visualization technique.\n",
    "\n",
    "I recommend to familiarize with this amazing blogpost https://distill.pub/2016/misread-tsne/ which graphically shows traps associated with use of t-SNE and how  hyperparameters selection can  affect final embeding.\n",
    "\n"
   ]
  },
  {
   "cell_type": "markdown",
   "metadata": {
    "ExecuteTime": {
     "end_time": "2020-03-31T22:10:52.886009Z",
     "start_time": "2020-03-31T22:10:52.882944Z"
    }
   },
   "source": [
    "### To better illustrate properties of individual methods of reducing dimensionality (from this and previous lab), create a set of points in the shape of a roulade.  To do it:\n",
    "\n",
    "1. Prepare a point generator for the circles in this generator, ensure that the radius decreases with the next steps (in this way you will get a spiral)\n",
    "\n",
    "2. Treat the spiral as a cross-sectional solid, creating a croissant / crescent roll\n",
    "\n",
    "3. Move the points in the roll with a slight noise to avoid their perfect placement\n",
    "\n",
    "4. For better visualization, you can give individual points a color depending, e.g. on the distance from the center of the roulade\n",
    "\n",
    "5. Generated roulade should resemble the picture below"
   ]
  },
  {
   "cell_type": "code",
   "execution_count": null,
   "metadata": {
    "ExecuteTime": {
     "end_time": "2020-03-31T23:31:37.553289Z",
     "start_time": "2020-03-31T23:31:37.541597Z"
    }
   },
   "outputs": [],
   "source": [
    "from time import time\n",
    "import math\n",
    "import random\n",
    "# import mkl\n",
    "import glob\n",
    "\n",
    "import numpy as np\n",
    "import pandas as pd\n",
    "import seaborn as sn\n",
    "import matplotlib.pyplot as plt\n",
    "from scipy import stats\n",
    "from mpl_toolkits.mplot3d import Axes3D\n",
    "from PIL import Image\n",
    "from matplotlib.cbook import get_sample_data\n",
    "from matplotlib.offsetbox import TextArea, DrawingArea, OffsetImage, AnnotationBbox\n",
    "from IPython.display import Image\n",
    "import tensorflow as tf\n",
    "from tensorflow import keras\n",
    "\n",
    "sn.set(color_codes=True)\n",
    "np.random.seed(1234)\n",
    "# mkl.set_num_threads(4)\n",
    "%matplotlib inline\n",
    "%config InlineBackend.figure_format = 'retina'\n",
    "plt.rcParams[\"figure.figsize\"] = [20, 20]\n",
    "\n"
   ]
  },
  {
   "cell_type": "markdown",
   "metadata": {
    "ExecuteTime": {
     "end_time": "2020-03-31T22:22:58.903426Z",
     "start_time": "2020-03-31T22:22:58.901888Z"
    }
   },
   "source": [
    "## Roulade points generator"
   ]
  },
  {
   "cell_type": "code",
   "execution_count": null,
   "metadata": {
    "ExecuteTime": {
     "end_time": "2020-03-31T23:31:40.622587Z",
     "start_time": "2020-03-31T23:31:40.612987Z"
    }
   },
   "outputs": [],
   "source": [
    "def random_spiral_point(density=2):\n",
    "    p = random.random()**0.5\n",
    "    return p*math.cos(p*density*np.pi*2), p*math.sin(p*density*np.pi*2)\n",
    "\n",
    "def uniform_spiral(density=3, steps = 100):\n",
    "    x, y = [] ,[]\n",
    "    for i in range(steps):\n",
    "        x.append((i/steps)**0.5*math.cos((i/steps)**0.5*density*np.pi*2))\n",
    "        y.append((i/steps)**0.5*math.sin((i/steps)**0.5*density*np.pi*2))\n",
    "        \n",
    "    return x, y\n",
    "        \n",
    "def spiral2roll(xli, yli, width=7, angle=0.1):\n",
    "    nx, ny, nz, d = [], [], [], []\n",
    "    for x,y in zip(xli, yli):\n",
    "        p = random.random()\n",
    "        nx.append((width+x)*math.cos(angle*p*np.pi*2))\n",
    "        ny.append((width+x)*math.sin(angle*p*np.pi*2))\n",
    "        nz.append(y)\n",
    "        d.append((x**2+y**2)**0.5)\n",
    "    return nx, ny, nz, d\n",
    "\n",
    "def uniform_roll(xli, yli, width=7, angle=0.25, density=5, noise_factor=0.05):\n",
    "    nx, ny, nz, d = [], [], [], []\n",
    "    d1 = [((x**2+y**2)**0.5) for x,y in zip(xli, yli)]\n",
    "    for i in range(density):\n",
    "        nx.extend([(width+x)*math.cos(angle*i/density*np.pi*2) + (random.random()-0.5)*noise_factor for x in xli])\n",
    "        ny.extend([(width+x)*math.sin(angle*i/density*np.pi*2) + (random.random()-0.5)*noise_factor  for x in xli])\n",
    "        nz.extend(yli)\n",
    "        d.extend(d1) \n",
    "    return nx, ny, nz, d  \n",
    "\n",
    "\n",
    "def roll_generator(to_array=True, spiral_density=3, spiral_steps = 20, width=7, angle=0.3, density=5):\n",
    "    x, y = uniform_spiral(density=spiral_density, steps = spiral_steps)\n",
    "    x,y,z,d = uniform_roll(x, y, width=width, angle=angle, density=density)\n",
    "       \n",
    "    if to_array:\n",
    "        return np.array([x,y,z]).T, d\n",
    "    else:\n",
    "        return x,y,z,d\n",
    "        "
   ]
  },
  {
   "cell_type": "code",
   "execution_count": null,
   "metadata": {
    "ExecuteTime": {
     "end_time": "2020-03-31T23:31:41.019800Z",
     "start_time": "2020-03-31T23:31:41.016903Z"
    }
   },
   "outputs": [],
   "source": [
    "def plot_roulade(x,y,z,d=None):\n",
    "    fig = plt.figure()\n",
    "    ax = fig.add_subplot(111, projection='3d')\n",
    "    ax.scatter(x, y, z, c=d, cmap=plt.cm.coolwarm)\n",
    "    ax.set_xlabel('X Label')\n",
    "    ax.set_ylabel('Y Label')\n",
    "    ax.set_zlabel('Z Label')\n",
    "    ax.set_xlim([-6, 6])\n",
    "    ax.set_ylim([-6, 6])\n",
    "    ax.set_zlim([-6, 6])\n",
    "    "
   ]
  },
  {
   "cell_type": "code",
   "execution_count": null,
   "metadata": {
    "ExecuteTime": {
     "end_time": "2020-03-31T23:31:42.213142Z",
     "start_time": "2020-03-31T23:31:41.468752Z"
    }
   },
   "outputs": [],
   "source": [
    "xl, yl = uniform_spiral()\n",
    "x,y,z,d = uniform_roll(xl,yl, width=7, angle=0.5, density=20, noise_factor=0.15)\n",
    "plot_roulade(x,y,z,d=d)"
   ]
  },
  {
   "cell_type": "markdown",
   "metadata": {
    "ExecuteTime": {
     "end_time": "2020-03-31T22:25:35.266809Z",
     "start_time": "2020-03-31T22:25:35.264280Z"
    }
   },
   "source": [
    "#### Visualize the prepared set of points by projecting onto a 2D plane, changing the following aspects in subsequent approaches:\n",
    "\n",
    "1. Density of points generated, in terms of points per spiral\n",
    "\n",
    "2. Distance between roll layers, layer density\n",
    "\n",
    "3. Visualization method: PCA, KernelPCA, MDS, t-SNE\n",
    "\n",
    "4. generate at least a few plots per method\n",
    "\n",
    "\n",
    "#### Save each generated chart, you will later need it to embeding images"
   ]
  },
  {
   "cell_type": "code",
   "execution_count": null,
   "metadata": {},
   "outputs": [],
   "source": [
    "spiral_data = [\n",
    "    {\"spiral_density\":3, \"spiral_steps\" : 20, \"width\":7, \"angle\":0.5, \"roll_density\":5},\n",
    "    {\"spiral_density\":1, \"spiral_steps\" : 20, \"width\":7, \"angle\":0.5, \"roll_density\":5},\n",
    "    {\"spiral_density\":3, \"spiral_steps\" : 50, \"width\":7, \"angle\":0.5, \"roll_density\":5},\n",
    "    {\"spiral_density\":3, \"spiral_steps\" : 20, \"width\":4, \"angle\":0.5, \"roll_density\":5},\n",
    "    {\"spiral_density\":3, \"spiral_steps\" : 20, \"width\":7, \"angle\":2, \"roll_density\":5},\n",
    "    {\"spiral_density\":3, \"spiral_steps\" : 20, \"width\":7, \"angle\":0.5, \"roll_density\":3},\n",
    "]"
   ]
  },
  {
   "cell_type": "markdown",
   "metadata": {},
   "source": [
    "#### PCA implementation"
   ]
  },
  {
   "cell_type": "code",
   "execution_count": null,
   "metadata": {
    "ExecuteTime": {
     "end_time": "2020-03-31T23:19:48.344665Z",
     "start_time": "2020-03-31T23:19:48.338523Z"
    }
   },
   "outputs": [],
   "source": [
    "def show_PCA(spiral_density=3, spiral_steps = 20, width=7, angle=0.5, roll_density=5):\n",
    "    fig = plt.figure()\n",
    "    x,y,z,d=roll_generator(to_array=False, spiral_density=spiral_density,\n",
    "                           spiral_steps = spiral_steps, width=width,\n",
    "                           angle=angle, density=roll_density)\n",
    "    from mpl_toolkits.mplot3d import Axes3D\n",
    "\n",
    "    # fig = plt.figure()\n",
    "    ax = fig.add_subplot(121, projection='3d')\n",
    "    ax.scatter(x, y, z, c=d, cmap=plt.cm.coolwarm)\n",
    "    ax.set_xlabel('X Label')\n",
    "    ax.set_ylabel('Y Label')\n",
    "    ax.set_zlabel('Z Label')\n",
    "    ax.set_xlim([-6, 6])\n",
    "    ax.set_ylim([-6, 6])\n",
    "    ax.set_zlim([-6, 6])\n",
    "\n",
    "    ax2 = fig.add_subplot(122)\n",
    "    points, d=roll_generator(to_array=True, spiral_density=spiral_density,\n",
    "                           spiral_steps = spiral_steps, width=width,\n",
    "                           angle=angle, density=roll_density)\n",
    "\n",
    "    from sklearn.decomposition import PCA\n",
    "    embedding = PCA(n_components=2)\n",
    "    points_transformed = embedding.fit_transform(points)\n",
    "    points_transformed.shape\n",
    "\n",
    "    points_transformed_t = points_transformed.T\n",
    "    points_transformed_t.shape\n",
    "\n",
    "    ax2.scatter(points_transformed_t[0], points_transformed_t[1], c=d, cmap=plt.cm.coolwarm)\n",
    "    ax2.set_xlabel('X Label')\n",
    "    ax2.set_ylabel('Y Label')\n",
    "    \n",
    "    plt.rcParams[\"figure.figsize\"] = [12, 6]\n",
    "    \n",
    "    extent = ax2.get_window_extent().transformed(fig.dpi_scale_trans.inverted())\n",
    "    fig.savefig(f'pca_spst{spiral_steps}_roldens{roll_density}_w{width}_a{angle}_sd{spiral_density}.png', bbox_inches=extent)"
   ]
  },
  {
   "cell_type": "code",
   "execution_count": null,
   "metadata": {
    "ExecuteTime": {
     "end_time": "2020-03-31T23:19:56.710653Z",
     "start_time": "2020-03-31T23:19:56.283451Z"
    }
   },
   "outputs": [],
   "source": [
    "plt.rcParams[\"figure.figsize\"] = [12, 6] # fix problem with wrong size of first image\n",
    "for data in spiral_data:\n",
    "    show_PCA(spiral_density=data[\"spiral_density\"], spiral_steps =data[\"spiral_steps\"], width=data[\"width\"], angle=data[\"angle\"], roll_density=data[\"roll_density\"]) "
   ]
  },
  {
   "cell_type": "markdown",
   "metadata": {
    "ExecuteTime": {
     "end_time": "2020-03-31T22:44:17.871174Z",
     "start_time": "2020-03-31T22:44:17.869764Z"
    }
   },
   "source": [
    "#### KernelPCA implementation"
   ]
  },
  {
   "cell_type": "code",
   "execution_count": null,
   "metadata": {
    "ExecuteTime": {
     "end_time": "2020-03-31T23:20:04.218416Z",
     "start_time": "2020-03-31T23:20:04.212339Z"
    }
   },
   "outputs": [],
   "source": [
    "def show_KernelPCA(spiral_density=3, spiral_steps = 20, width=7, angle=0.5, roll_density=5):\n",
    "    fig = plt.figure()\n",
    "    x,y,z,d=roll_generator(to_array=False, spiral_density=spiral_density,\n",
    "                           spiral_steps = spiral_steps, width=width,\n",
    "                           angle=angle, density=roll_density)\n",
    "    from mpl_toolkits.mplot3d import Axes3D\n",
    "\n",
    "    # fig = plt.figure()\n",
    "    ax = fig.add_subplot(121, projection='3d')\n",
    "    ax.scatter(x, y, z, c=d, cmap=plt.cm.coolwarm)\n",
    "    ax.set_xlabel('X Label')\n",
    "    ax.set_ylabel('Y Label')\n",
    "    ax.set_zlabel('Z Label')\n",
    "    ax.set_xlim([-6, 6])\n",
    "    ax.set_ylim([-6, 6])\n",
    "    ax.set_zlim([-6, 6])\n",
    "\n",
    "    ax2 = fig.add_subplot(122)\n",
    "    points, d=roll_generator(to_array=True, spiral_density=spiral_density,\n",
    "                           spiral_steps = spiral_steps, width=width,\n",
    "                           angle=angle, density=roll_density)\n",
    "\n",
    "    from sklearn.decomposition import KernelPCA\n",
    "    embedding = KernelPCA(n_components=2)\n",
    "    points_transformed = embedding.fit_transform(points)\n",
    "    points_transformed.shape\n",
    "\n",
    "    points_transformed_t = points_transformed.T\n",
    "    points_transformed_t.shape\n",
    "\n",
    "    ax2.scatter(points_transformed_t[0], points_transformed_t[1], c=d, cmap=plt.cm.coolwarm)\n",
    "    ax2.set_xlabel('X Label')\n",
    "    ax2.set_ylabel('Y Label')\n",
    "    \n",
    "    plt.rcParams[\"figure.figsize\"] = [12, 6]\n",
    "    \n",
    "    extent = ax2.get_window_extent().transformed(fig.dpi_scale_trans.inverted())\n",
    "    fig.savefig(f'kpca_spst{spiral_steps}_roldens{roll_density}_w{width}_a{angle}_sd{spiral_density}.png', bbox_inches=extent)"
   ]
  },
  {
   "cell_type": "code",
   "execution_count": null,
   "metadata": {},
   "outputs": [],
   "source": [
    "for data in spiral_data:\n",
    "    show_KernelPCA(spiral_density=data[\"spiral_density\"], spiral_steps =data[\"spiral_steps\"], width=data[\"width\"], angle=data[\"angle\"], roll_density=data[\"roll_density\"]) "
   ]
  },
  {
   "cell_type": "markdown",
   "metadata": {},
   "source": [
    "#### MDE implementation"
   ]
  },
  {
   "cell_type": "code",
   "execution_count": null,
   "metadata": {
    "ExecuteTime": {
     "end_time": "2020-03-31T23:20:15.082927Z",
     "start_time": "2020-03-31T23:20:15.076728Z"
    }
   },
   "outputs": [],
   "source": [
    "def show_MDE(spiral_density=3, spiral_steps = 20, width=7, angle=0.5, roll_density=5):\n",
    "    fig = plt.figure()\n",
    "    x,y,z,d=roll_generator(to_array=False, spiral_density=spiral_density,\n",
    "                           spiral_steps = spiral_steps, width=width,\n",
    "                           angle=angle, density=roll_density)\n",
    "    from mpl_toolkits.mplot3d import Axes3D\n",
    "\n",
    "    # fig = plt.figure()\n",
    "    ax = fig.add_subplot(121, projection='3d')\n",
    "    ax.scatter(x, y, z, c=d, cmap=plt.cm.coolwarm)\n",
    "    ax.set_xlabel('X Label')\n",
    "    ax.set_ylabel('Y Label')\n",
    "    ax.set_zlabel('Z Label')\n",
    "    ax.set_xlim([-6, 6])\n",
    "    ax.set_ylim([-6, 6])\n",
    "    ax.set_zlim([-6, 6])\n",
    "\n",
    "    ax2 = fig.add_subplot(122)\n",
    "    points, d=roll_generator(to_array=True, spiral_density=spiral_density,\n",
    "                           spiral_steps = spiral_steps, width=width,\n",
    "                           angle=angle, density=roll_density)\n",
    "\n",
    "    from sklearn.manifold import MDS\n",
    "    embedding = MDS(n_components=2)\n",
    "    points_transformed = embedding.fit_transform(points)\n",
    "    points_transformed.shape\n",
    "\n",
    "    points_transformed_t = points_transformed.T\n",
    "    points_transformed_t.shape\n",
    "\n",
    "    ax2.scatter(points_transformed_t[0], points_transformed_t[1], c=d, cmap=plt.cm.coolwarm)\n",
    "    ax2.set_xlabel('X Label')\n",
    "    ax2.set_ylabel('Y Label')\n",
    "    \n",
    "    plt.rcParams[\"figure.figsize\"] = [12, 6]\n",
    "    \n",
    "    extent = ax2.get_window_extent().transformed(fig.dpi_scale_trans.inverted())\n",
    "    fig.savefig(f'mde_spst{spiral_steps}_roldens{roll_density}_w{width}_a{angle}_sd{spiral_density}.png', bbox_inches=extent)"
   ]
  },
  {
   "cell_type": "code",
   "execution_count": null,
   "metadata": {
    "ExecuteTime": {
     "end_time": "2020-03-31T23:22:37.000161Z",
     "start_time": "2020-03-31T23:22:36.499021Z"
    }
   },
   "outputs": [],
   "source": [
    "for data in spiral_data:\n",
    "    show_MDE(spiral_density=data[\"spiral_density\"], spiral_steps =data[\"spiral_steps\"], width=data[\"width\"], angle=data[\"angle\"], roll_density=data[\"roll_density\"]) "
   ]
  },
  {
   "cell_type": "markdown",
   "metadata": {},
   "source": [
    "#### t-SNE implementation"
   ]
  },
  {
   "cell_type": "code",
   "execution_count": null,
   "metadata": {
    "ExecuteTime": {
     "end_time": "2020-03-31T23:22:41.834530Z",
     "start_time": "2020-03-31T23:22:41.825759Z"
    }
   },
   "outputs": [],
   "source": [
    "\n",
    "def show_tSNE(spiral_density=3, spiral_steps = 20, width=7, angle=0.5, roll_density=5, n_neighbors=5,\n",
    "              metric='euclidean', perplexity=30):\n",
    "    fig = plt.figure()\n",
    "    x,y,z,d=roll_generator(to_array=False, spiral_density=spiral_density,\n",
    "                           spiral_steps = spiral_steps, width=width,\n",
    "                           angle=angle, density=roll_density)\n",
    "    from mpl_toolkits.mplot3d import Axes3D\n",
    "\n",
    "    # fig = plt.figure()\n",
    "    ax = fig.add_subplot(121, projection='3d')\n",
    "    ax.scatter(x, y, z, c=d, cmap=plt.cm.coolwarm)\n",
    "    ax.set_xlabel('X Label')\n",
    "    ax.set_ylabel('Y Label')\n",
    "    ax.set_zlabel('Z Label')\n",
    "    ax.set_xlim([-6, 6])\n",
    "    ax.set_ylim([-6, 6])\n",
    "    ax.set_zlim([-6, 6])\n",
    "\n",
    "    ax2 = fig.add_subplot(122)\n",
    "    points, d=roll_generator(to_array=True, spiral_density=spiral_density,\n",
    "                           spiral_steps = spiral_steps, width=width,\n",
    "                           angle=angle, density=roll_density)\n",
    "\n",
    "    from sklearn.manifold import TSNE\n",
    "    points_transformed = TSNE(n_components=2, metric=metric, perplexity=perplexity).fit_transform(points)\n",
    "    \n",
    "    points_transformed_t = points_transformed.T\n",
    "\n",
    "\n",
    "    ax2.scatter(points_transformed_t[0], points_transformed_t[1], c=d, cmap=plt.cm.coolwarm)\n",
    "    ax2.set_xlabel('X Label')\n",
    "    ax2.set_ylabel('Y Label')\n",
    "    \n",
    "    plt.rcParams[\"figure.figsize\"] = [12, 6]\n",
    "    \n",
    "    extent = ax2.get_window_extent().transformed(fig.dpi_scale_trans.inverted())\n",
    "    fig.savefig(f'tsne_n{n_neighbors}_spst{spiral_steps}_roldens{roll_density}_w{width}_a{angle}_sd{spiral_density}.png', bbox_inches=extent)"
   ]
  },
  {
   "cell_type": "code",
   "execution_count": null,
   "metadata": {
    "ExecuteTime": {
     "end_time": "2020-03-31T23:23:10.621790Z",
     "start_time": "2020-03-31T23:23:09.733286Z"
    }
   },
   "outputs": [],
   "source": [
    "for data in spiral_data:\n",
    "    show_tSNE(spiral_density=data[\"spiral_density\"], spiral_steps =data[\"spiral_steps\"], width=data[\"width\"], angle=data[\"angle\"], roll_density=data[\"roll_density\"]) "
   ]
  },
  {
   "cell_type": "markdown",
   "metadata": {},
   "source": [
    "### In this way, you should get a set of images showing the various available projections of the original roulade to the 2D plane. Treat these images as elements of a new data set, we treat image pixels as a high-dimensional vector. Use t-SNE to project the newly created set of 2d projection thumbnails into a 2-dimensional space."
   ]
  },
  {
   "cell_type": "code",
   "execution_count": null,
   "metadata": {},
   "outputs": [],
   "source": [
    "import os\n",
    "import re\n",
    "p = re.compile(r'.*.png$')\n",
    "images_name = np.array(list(filter(lambda x: p.match(x),os.listdir())))"
   ]
  },
  {
   "cell_type": "code",
   "execution_count": null,
   "metadata": {},
   "outputs": [],
   "source": [
    "# read data\n",
    "import imageio\n",
    "points = np.array([np.array(imageio.imread(image_name)).reshape(-1) for image_name in images_name])"
   ]
  },
  {
   "cell_type": "code",
   "execution_count": null,
   "metadata": {
    "ExecuteTime": {
     "end_time": "2020-03-31T23:23:12.994646Z",
     "start_time": "2020-03-31T23:23:12.991279Z"
    }
   },
   "outputs": [],
   "source": [
    "from sklearn.manifold import TSNE\n",
    "\n",
    "points_transformed = TSNE(n_components=2, metric='euclidean', perplexity=30, random_state=44).fit_transform(points)\n",
    "points_transformed_t = points_transformed.T\n",
    "fig = plt.figure()\n",
    "ax2 = fig.add_subplot(122)\n",
    "ax2.scatter(points_transformed_t[0], points_transformed_t[1], cmap=plt.cm.coolwarm)\n",
    "ax2.set_xlabel('X Label')\n",
    "ax2.set_ylabel('Y Label')\n",
    "\n",
    "plt.rcParams[\"figure.figsize\"] = [12, 6]\n",
    "\n",
    "extent = ax2.get_window_extent().transformed(fig.dpi_scale_trans.inverted())"
   ]
  },
  {
   "cell_type": "markdown",
   "metadata": {
    "ExecuteTime": {
     "end_time": "2020-03-31T23:23:14.360679Z",
     "start_time": "2020-03-31T23:23:14.357160Z"
    }
   },
   "source": [
    "# homework - work with more complex data (higher dimensionality).\n",
    "\n",
    "- use a basic machine learning set representing black and white scans of 32x32 pixel handwritten digits (MNIST)\n",
    "- apply dimensionality reduction on these data using PCA, MDS and t-SNE methods\n",
    "- Plot results\n",
    "- Pick first 1000-2000 points as TSNE takes a lot of time for all samplescolumns = list(range(10))\n"
   ]
  },
  {
   "cell_type": "code",
   "execution_count": null,
   "metadata": {},
   "outputs": [],
   "source": [
    "columns = list(range(10))"
   ]
  },
  {
   "cell_type": "code",
   "execution_count": null,
   "metadata": {
    "ExecuteTime": {
     "end_time": "2020-03-31T23:24:15.744080Z",
     "start_time": "2020-03-31T23:24:15.568721Z"
    }
   },
   "outputs": [],
   "source": [
    "(x_train, y_train), (x_test, y_test) = tf.keras.datasets.mnist.load_data(path='mnist.npz')\n",
    "print(x_train.shape)\n",
    "print(y_train.shape)"
   ]
  },
  {
   "cell_type": "code",
   "execution_count": null,
   "metadata": {
    "ExecuteTime": {
     "end_time": "2020-03-31T22:59:03.440280Z",
     "start_time": "2020-03-31T22:59:03.438095Z"
    }
   },
   "outputs": [],
   "source": [
    "# reshape 2D arrays of image pixels to 1D vector\n",
    "x_train_reshaped = x_train.reshape(-1, 28*28)\n",
    "print(x_train_reshaped.shape)"
   ]
  },
  {
   "cell_type": "markdown",
   "metadata": {},
   "source": [
    "## PCA"
   ]
  },
  {
   "cell_type": "code",
   "execution_count": null,
   "metadata": {},
   "outputs": [],
   "source": [
    "# dimensionality reduction using PCA\n",
    "from sklearn.decomposition import PCA\n",
    "\n",
    "embedding_pca = PCA(n_components=2)\n",
    "points_transformed_pca = embedding_pca.fit_transform(x_train_reshaped)\n",
    "print(f'Shape of transformed data: {points_transformed_pca.shape}')\n",
    "\n",
    "points_transformed_pca_t = points_transformed_pca.T"
   ]
  },
  {
   "cell_type": "code",
   "execution_count": null,
   "metadata": {},
   "outputs": [],
   "source": [
    "plt.figure(figsize=(15,12))\n",
    "thin_out = 10\n",
    "\n",
    "for column in columns:\n",
    "    dataGroup = y_train == column\n",
    "    plt.scatter(points_transformed_pca_t[0][dataGroup][::thin_out], points_transformed_pca_t[1][dataGroup][::thin_out],  cmap=plt.cm.coolwarm)\n",
    "\n",
    "plt.xlabel('X Label')\n",
    "plt.ylabel('Y Label')\n",
    "plt.title('MDS')\n",
    "plt.legend(columns)\n",
    "plt.show()"
   ]
  },
  {
   "cell_type": "markdown",
   "metadata": {},
   "source": [
    "## MDS"
   ]
  },
  {
   "cell_type": "code",
   "execution_count": null,
   "metadata": {},
   "outputs": [],
   "source": [
    "from sklearn.manifold import MDS\n",
    "\n",
    "data_lenght = 500\n",
    "x_train_reshaped_reduced = x_train_reshaped[:data_lenght]\n",
    "y_train_reduced = y_train[:data_lenght]\n",
    "embedding_mds = MDS(n_components=2)\n",
    "points_transformed_mds = embedding_mds.fit_transform(x_train_reshaped_reduced)\n",
    "\n",
    "points_transformed_mds_t = points_transformed_mds.T"
   ]
  },
  {
   "cell_type": "code",
   "execution_count": null,
   "metadata": {},
   "outputs": [],
   "source": [
    "plt.figure(figsize=(15,12))\n",
    "\n",
    "for column in columns:\n",
    "    dataGroup = y_train_reduced == column\n",
    "    plt.scatter(points_transformed_mds_t[0][dataGroup], points_transformed_mds_t[1][dataGroup],  cmap=plt.cm.coolwarm)\n",
    "\n",
    "plt.xlabel('X Label')\n",
    "plt.ylabel('Y Label')\n",
    "plt.title('MDS')\n",
    "plt.legend(columns)\n",
    "plt.show()"
   ]
  },
  {
   "cell_type": "markdown",
   "metadata": {},
   "source": [
    "## T-SNE"
   ]
  },
  {
   "cell_type": "code",
   "execution_count": null,
   "metadata": {},
   "outputs": [],
   "source": [
    "from sklearn.manifold import TSNE\n",
    "\n",
    "x_train_reshaped_reduced = x_train_reshaped[:2000]\n",
    "y_train_reduced = y_train[:2000]\n",
    "\n",
    "embedding_tsne = TSNE(n_components=2, metric='euclidean', perplexity=30)\n",
    "points_transformed_tsne = embedding_tsne.fit_transform(x_train_reshaped_reduced)\n",
    "print(f'Shape of transformed data: {points_transformed_tsne.shape}')\n",
    "\n",
    "points_transformed_tsne_t = points_transformed_tsne.T"
   ]
  },
  {
   "cell_type": "code",
   "execution_count": null,
   "metadata": {},
   "outputs": [],
   "source": [
    "plt.figure(figsize=(15,12))\n",
    "\n",
    "for column in columns:\n",
    "    dataGroup = y_train_reduced == column\n",
    "    plt.scatter(points_transformed_tsne_t[0][dataGroup], points_transformed_tsne_t[1][dataGroup],  cmap=plt.cm.coolwarm)\n",
    "\n",
    "plt.xlabel('X Label')\n",
    "plt.ylabel('Y Label')\n",
    "plt.title('TSNE')\n",
    "plt.legend(columns)\n",
    "plt.show()"
   ]
  },
  {
   "cell_type": "code",
   "execution_count": null,
   "metadata": {},
   "outputs": [],
   "source": []
  }
 ],
 "metadata": {
  "kernelspec": {
   "display_name": "Python 3",
   "language": "python",
   "name": "python3"
  },
  "language_info": {
   "codemirror_mode": {
    "name": "ipython",
    "version": 3
   },
   "file_extension": ".py",
   "mimetype": "text/x-python",
   "name": "python",
   "nbconvert_exporter": "python",
   "pygments_lexer": "ipython3",
   "version": "3.7.10"
  },
  "varInspector": {
   "cols": {
    "lenName": 16,
    "lenType": 16,
    "lenVar": 40
   },
   "kernels_config": {
    "python": {
     "delete_cmd_postfix": "",
     "delete_cmd_prefix": "del ",
     "library": "var_list.py",
     "varRefreshCmd": "print(var_dic_list())"
    },
    "r": {
     "delete_cmd_postfix": ") ",
     "delete_cmd_prefix": "rm(",
     "library": "var_list.r",
     "varRefreshCmd": "cat(var_dic_list()) "
    }
   },
   "types_to_exclude": [
    "module",
    "function",
    "builtin_function_or_method",
    "instance",
    "_Feature"
   ],
   "window_display": false
  }
 },
 "nbformat": 4,
 "nbformat_minor": 4
}

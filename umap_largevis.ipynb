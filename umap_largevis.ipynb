{
 "cells": [
  {
   "cell_type": "code",
   "execution_count": null,
   "metadata": {
    "ExecuteTime": {
     "end_time": "2020-04-11T16:50:43.663008Z",
     "start_time": "2020-04-11T16:50:42.541867Z"
    }
   },
   "outputs": [],
   "source": [
    "import sklearn.datasets\n",
    "import pandas as pd\n",
    "import numpy as np\n",
    "import seaborn as sn\n",
    "import matplotlib.pyplot as plt"
   ]
  },
  {
   "cell_type": "markdown",
   "metadata": {},
   "source": [
    "###   t-SNE, UMAP and LargeVis\n",
    "\n",
    "In this and the next notebook we will use manifold learning for data visualization of large data sets (with high dimensionality). In addition to t-SNE, two relatively new methods will be used that are more efficient on large data sets.\n",
    "\n",
    "\n",
    "- UMAP (Uniform Manifold Approximation and Projection) - Install this Python package: https://umap-learn.readthedocs.io/en/latest/index.html. UMAP package is compatible with scikit-learn, making use of the same API and able to be added to sklearn pipelines. UMAP can work as a drop in replacement for t-SNE and other dimension reduction classes from scikit-learn\n",
    "\n",
    "\n",
    "- LargeVis (Visualizing Large-scale and High-dimensional Data) - Many techniques (like t-SNE, UMAP and LargeVis) first compute a similarity structure of the data points and then project them into a low-dimensional space with the structure preserved. These two steps suffer from considerable computational costs Comparing to tSNE, LargeVis significantly reduces the computational cost of the graph construction step and employs a principled probabilistic model for the visualization step, the objective of which can be effectively optimized through asynchronous stochastic gradient descent with a linear time complexity. Download this algorithm repository and follow the installation instructions. https://github.com/lferry007/LargeVis\n"
   ]
  },
  {
   "cell_type": "code",
   "execution_count": null,
   "metadata": {
    "ExecuteTime": {
     "end_time": "2020-04-11T16:50:46.681280Z",
     "start_time": "2020-04-11T16:50:46.679630Z"
    }
   },
   "outputs": [],
   "source": [
    "from sklearn.manifold import TSNE\n",
    "import umap"
   ]
  },
  {
   "cell_type": "markdown",
   "metadata": {},
   "source": [
    "To get data we use the sklearn.datasets.fetch_openml method, which as the name requires, Fetch dataset from openml by name or dataset id. We will use MNIST and Fashion-MNIST(Zalando's article images). Fashion-MNIST is intended to serve as a direct drop-in replacement for the original MNIST dataset for benchmarking machine learning algorithms. Instead of numbers it contains thumbnails of clothes images."
   ]
  },
  {
   "cell_type": "code",
   "execution_count": null,
   "metadata": {
    "ExecuteTime": {
     "end_time": "2020-04-11T16:51:24.131177Z",
     "start_time": "2020-04-11T16:50:48.841764Z"
    }
   },
   "outputs": [],
   "source": [
    "mnist = sklearn.datasets.fetch_openml('mnist_784')\n",
    "fmnist = sklearn.datasets.fetch_openml('Fashion-MNIST')"
   ]
  },
  {
   "cell_type": "markdown",
   "metadata": {},
   "source": [
    "Below are drawings of some samples from mnist and fmnist data sets"
   ]
  },
  {
   "cell_type": "code",
   "execution_count": null,
   "metadata": {
    "ExecuteTime": {
     "end_time": "2020-04-11T16:51:48.804474Z",
     "start_time": "2020-04-11T16:51:48.087614Z"
    }
   },
   "outputs": [],
   "source": [
    "mnist_names = [i for i in range(10)]\n",
    " \n",
    "plt.figure(figsize=(14,10))\n",
    "for i in range(40):\n",
    "    plt.subplot(5, 8, i+1)\n",
    "    plt.xticks([])\n",
    "    plt.yticks([])\n",
    "    plt.grid(False)\n",
    "    #     plt.imshow(mnist.data[i].reshape((28, 28)), cmap=plt.cm.binary)\n",
    "    plt.imshow(mnist.data.values[i].reshape((28, 28)), cmap=plt.cm.binary)\n",
    "    plt.xlabel(mnist_names[int(mnist.target[i])])\n",
    "plt.show()"
   ]
  },
  {
   "cell_type": "code",
   "execution_count": null,
   "metadata": {
    "ExecuteTime": {
     "end_time": "2020-04-11T16:51:50.333395Z",
     "start_time": "2020-04-11T16:51:49.609444Z"
    }
   },
   "outputs": [],
   "source": [
    "fmnist_names = ['T-shirt/top', 'Trouser', 'Pullover', 'Dress', 'Coat',\n",
    "               'Sandal', 'Shirt', 'Sneaker', 'Bag', 'Ankle boot']\n",
    " \n",
    "plt.figure(figsize=(14,10))\n",
    "for i in range(40):\n",
    "    plt.subplot(5, 8, i+1)\n",
    "    plt.xticks([])\n",
    "    plt.yticks([])\n",
    "    plt.grid(False)\n",
    "    plt.imshow(fmnist.data.values[i].reshape((28, 28)), cmap=plt.cm.binary)\n",
    "    plt.xlabel(fmnist_names[int(fmnist.target[i])])\n",
    "plt.show()"
   ]
  },
  {
   "cell_type": "markdown",
   "metadata": {},
   "source": [
    "#### Use t-SNE, UMAP and LargeVis to project mnist and fmnist data sets into a 2-dimensional space. For LargeVis, you need to create a function that saves the data to the required by LargeVis txt file format, and a function that loads the resulting file. Draw charts for all visualizations."
   ]
  },
  {
   "cell_type": "markdown",
   "metadata": {},
   "source": [
    "## UMAP"
   ]
  },
  {
   "cell_type": "code",
   "execution_count": null,
   "metadata": {},
   "outputs": [],
   "source": [
    "def umap_vis(embedding, target, title, custom_labels=None):\n",
    "    fig, ax = plt.subplots(figsize=(12, 10))\n",
    "    color = target.astype(int)\n",
    "    scatter = plt.scatter(embedding[:, 0], embedding[:, 1], c=color, cmap=\"Spectral\", s=0.1)\n",
    "    \n",
    "    if custom_labels is not None:\n",
    "        cbar = plt.colorbar(boundaries=np.arange(11)-0.5)\n",
    "        cbar.set_ticks(np.arange(10))\n",
    "        cbar.set_ticklabels(custom_labels)\n",
    "    else:\n",
    "        # produce a legend with the unique colors from the scatter\n",
    "        legend = ax.legend(*scatter.legend_elements(),\n",
    "                        loc=\"upper right\", title=\"Classes\")\n",
    "        ax.add_artist(legend)\n",
    "    \n",
    "    plt.title(f\"UMAP for {title}\", fontsize=18)\n",
    "    plt.xticks([])\n",
    "    plt.yticks([])\n",
    "    plt.show()"
   ]
  },
  {
   "cell_type": "code",
   "execution_count": null,
   "metadata": {
    "ExecuteTime": {
     "end_time": "2020-04-11T16:52:29.259930Z",
     "start_time": "2020-04-11T16:52:24.683439Z"
    }
   },
   "outputs": [],
   "source": [
    "reducer_mnist = umap.UMAP(random_state=42)\n",
    "embedding_mnist = reducer_mnist.fit_transform(mnist.data)\n",
    "\n",
    "umap_vis(embedding_mnist, mnist.target, 'MNIST')"
   ]
  },
  {
   "cell_type": "code",
   "execution_count": null,
   "metadata": {},
   "outputs": [],
   "source": [
    "np.shape(embedding_mnist[:,0])"
   ]
  },
  {
   "cell_type": "markdown",
   "metadata": {},
   "source": [
    "UMAP grupuje cyfry w poszczególne klasy, jak i zachowuje ogólną strukturę między różnymi klasami. Metoda ta zachowuje 1 daleko od 0 oraz grupuje 3,5,8 i 4,7,9 razem (w ostatnim przypadku cyfry te są stosunkowo do siebie podobne)."
   ]
  },
  {
   "cell_type": "code",
   "execution_count": null,
   "metadata": {
    "ExecuteTime": {
     "end_time": "2020-04-11T16:52:30.386959Z",
     "start_time": "2020-04-11T16:52:30.115212Z"
    }
   },
   "outputs": [],
   "source": [
    "reducer_fmnist = umap.UMAP(random_state=42)\n",
    "embedding_fmnist = reducer_fmnist.fit_transform(fmnist.data)\n",
    "\n",
    "umap_vis(embedding_fmnist, fmnist.target, 'Fashion-MNIST', custom_labels=fmnist_names)"
   ]
  },
  {
   "cell_type": "markdown",
   "metadata": {},
   "source": [
    "Bardzo dobrze rozdzielone zostały klasy: trouser i bag. Różne rodzaje butów (Ankle boot, Sneaker, Sandal) zostały zgrupowane razem, jednak nadal dostrzegalny jest podział między nimi. Duże podobieństwo między klasami: Shirt, Coat, Dress, Pullover i T-shirt/top spowodowało, że zostały one zobrazowane jako jedna grupa, gdzie podział nie jest jednoznaczny. "
   ]
  },
  {
   "cell_type": "markdown",
   "metadata": {
    "ExecuteTime": {
     "end_time": "2020-04-11T14:08:37.512198Z",
     "start_time": "2020-04-11T14:08:37.503923Z"
    }
   },
   "source": [
    "#### In order to compare the results of these three methods, calculate for each case the average distance between two points belonging to the same class divided by the average distance between points belonging to 2 different classes"
   ]
  },
  {
   "cell_type": "code",
   "execution_count": null,
   "metadata": {
    "ExecuteTime": {
     "end_time": "2020-04-11T16:53:01.719522Z",
     "start_time": "2020-04-11T16:52:47.553449Z"
    }
   },
   "outputs": [],
   "source": [
    "from scipy.spatial.distance import cdist"
   ]
  },
  {
   "cell_type": "code",
   "execution_count": null,
   "metadata": {},
   "outputs": [],
   "source": [
    "def calc_distance(embedding, target, metric='euclidean'):\n",
    "    ''' Calculate the average distance between two points \n",
    "    from 2 different classes (or within the same class) '''\n",
    "    \n",
    "    data = np.concatenate((embedding, target.reshape(-1, 1)), axis=1)\n",
    "    df = pd.DataFrame(data=data, columns=['embed1', 'embed2', 'target'])\n",
    "    \n",
    "    results = []\n",
    "    for base_target in np.unique(target):\n",
    "        single_class_buffer = []\n",
    "        for compare_target in np.unique(target):\n",
    "            base_class_records = df[df['target']==base_target]\n",
    "            base_coord = base_class_records.loc[:, ['embed1', 'embed2']].values.astype('float32')\n",
    "            compare_class_records = df[df['target']==compare_target]\n",
    "            compare_coord = compare_class_records.loc[:, ['embed1', 'embed2']].values.astype('float32')         \n",
    "            avg_dist = np.mean(cdist(base_coord, compare_coord, metric))\n",
    "            single_class_buffer.append(avg_dist)\n",
    "        results.append(single_class_buffer)\n",
    "    return np.array(results)\n",
    "\n",
    "def plot_distances_heatmap(distance, dataset_name, method_name, ticklabels=None):\n",
    "    ''' Visualize distances between classes using heatmap'''\n",
    "    \n",
    "    plt.figure(figsize=(15,12))\n",
    "    sn.heatmap(distance, annot=True)\n",
    "    plt.title(f'Average distance between 2 points for {dataset_name} dataset using {method_name} method')\n",
    "    plt.xlabel('comparison class')\n",
    "    plt.ylabel('base class')\n",
    "    if ticklabels is not None:\n",
    "        # set custom ticks labels\n",
    "        xlocs, xlabels = plt.xticks()\n",
    "        plt.xticks(xlocs, labels=ticklabels)\n",
    "        ylocs, ylabels = plt.yticks()\n",
    "        plt.yticks(ylocs, labels=ticklabels)\n",
    "    plt.show()\n",
    "    \n",
    "def calc_performance_metric(distance):\n",
    "    ''' Return the average distance between two points belonging to the same class \n",
    "    divided by the average distance between points belonging to 2 different classes'''\n",
    "    \n",
    "    diagonal_sum = np.trace(distance)\n",
    "    total_sum = np.sum(distance)\n",
    "    metric = diagonal_sum / (total_sum - diagonal_sum)\n",
    "    return metric"
   ]
  },
  {
   "cell_type": "markdown",
   "metadata": {},
   "source": [
    "### UMAP on MNIST performance measurement"
   ]
  },
  {
   "cell_type": "code",
   "execution_count": null,
   "metadata": {},
   "outputs": [],
   "source": [
    "%%time\n",
    "distance_mnist_umap = calc_distance(embedding_mnist, mnist.target.to_numpy())"
   ]
  },
  {
   "cell_type": "code",
   "execution_count": null,
   "metadata": {},
   "outputs": [],
   "source": [
    "plot_distances_heatmap(distance_mnist_umap, 'MNIST', 'UMAP')"
   ]
  },
  {
   "cell_type": "code",
   "execution_count": null,
   "metadata": {},
   "outputs": [],
   "source": [
    "print(f'Performance metric for UMAP method on MNIST dataset')\n",
    "print(f'{calc_performance_metric(distance_mnist_umap):.4f}')"
   ]
  },
  {
   "cell_type": "markdown",
   "metadata": {},
   "source": [
    "### UMAP on fashion-MNIST performance measurement"
   ]
  },
  {
   "cell_type": "code",
   "execution_count": null,
   "metadata": {},
   "outputs": [],
   "source": [
    "%%time\n",
    "distance_fmnist_umap = calc_distance(embedding_fmnist, fmnist.target.to_numpy())"
   ]
  },
  {
   "cell_type": "code",
   "execution_count": null,
   "metadata": {},
   "outputs": [],
   "source": [
    "plot_distances_heatmap(distance_fmnist_umap, 'fashion-MNIST', 'UMAP', fmnist_names)"
   ]
  },
  {
   "cell_type": "code",
   "execution_count": null,
   "metadata": {},
   "outputs": [],
   "source": [
    "print(f'Performance metric for UMAP method on f-MNIST dataset')\n",
    "print(f'{calc_performance_metric(distance_fmnist_umap):.4f}')"
   ]
  },
  {
   "cell_type": "markdown",
   "metadata": {},
   "source": [
    "## LargeVis"
   ]
  },
  {
   "cell_type": "code",
   "execution_count": null,
   "metadata": {},
   "outputs": [],
   "source": [
    "reduced = 10000\n",
    "mnistReducedData = mnist.data.values[:reduced]\n",
    "mnistReducedTarget = mnist.target[:reduced]"
   ]
  },
  {
   "cell_type": "code",
   "execution_count": null,
   "metadata": {},
   "outputs": [],
   "source": [
    "import LargeVis"
   ]
  },
  {
   "cell_type": "code",
   "execution_count": null,
   "metadata": {},
   "outputs": [],
   "source": [
    "def saveToTxt(data,filename=\"input.txt\"):\n",
    "    np.savetxt(filename,data,header=\"{} {}\".format(len(data),len(data[0])), comments=\"\",fmt=\"%u\")"
   ]
  },
  {
   "cell_type": "code",
   "execution_count": null,
   "metadata": {},
   "outputs": [],
   "source": [
    "filename = \"mnist.txt\"\n",
    "saveToTxt(mnistReducedData,filename = \"mnist.txt\")"
   ]
  },
  {
   "cell_type": "code",
   "execution_count": null,
   "metadata": {},
   "outputs": [],
   "source": [
    "LargeVis.loadfile(filename)\n",
    "LargeVis_MNIST = np.array(LargeVis.run(2, -1, -1, -1, -1, -1, -1, -1, -1, finalPerplexity))"
   ]
  },
  {
   "cell_type": "code",
   "execution_count": null,
   "metadata": {},
   "outputs": [],
   "source": [
    "%%time\n",
    "filename = \"mnist.txt\"\n",
    "perplexities = [20,40]\n",
    "for perplexity in perplexities:\n",
    "    LargeVis.loadfile(filename)\n",
    "    LargeVis_MNIST = np.array(LargeVis.run(2, -1, -1, -1, -1, -1, -1, -1, -1, perplexity))\n",
    "    distance_mnist_largeVis = calc_distance(LargeVis_MNIST, mnistReducedTarget.to_numpy())\n",
    "    print(f'perplexity[{perplexity}]:{calc_performance_metric(distance_mnist_largeVis):.4f}')"
   ]
  },
  {
   "cell_type": "code",
   "execution_count": null,
   "metadata": {},
   "outputs": [],
   "source": [
    "umap_vis(LargeVis_MNIST, mnistReducedTarget , 'MNIST')"
   ]
  },
  {
   "cell_type": "code",
   "execution_count": null,
   "metadata": {},
   "outputs": [],
   "source": [
    "fmnistReducedData = fmnist.data.values[:reduced]\n",
    "fmnistReducedTarget = fmnist.target[:reduced]"
   ]
  },
  {
   "cell_type": "code",
   "execution_count": null,
   "metadata": {},
   "outputs": [],
   "source": [
    "filename = \"fmnist.txt\"\n",
    "saveToTxt(fmnistReducedData,filename)"
   ]
  },
  {
   "cell_type": "code",
   "execution_count": null,
   "metadata": {},
   "outputs": [],
   "source": [
    "%%time\n",
    "LargeVis.loadfile(filename)\n",
    "LargeVis_FMNIST = np.array(LargeVis.run(2, -1, -1, -1, -1, -1, -1, -1, -1, 20))"
   ]
  },
  {
   "cell_type": "code",
   "execution_count": null,
   "metadata": {},
   "outputs": [],
   "source": [
    "%%time\n",
    "filename = \"fmnist.txt\"\n",
    "perplexities = [20,40]\n",
    "for perplexity in perplexities:\n",
    "    LargeVis.loadfile(filename)\n",
    "    LargeVis_FMNIST = np.array(LargeVis.run(2, -1, -1, -1, -1, -1, -1, -1, -1, perplexity))\n",
    "    distance_fmnist_largeVis = calc_distance(LargeVis_FMNIST, fmnistReducedTarget.to_numpy())\n",
    "    print(f'perplexity[{perplexity}]:{calc_performance_metric(distance_fmnist_largeVis):.4f}', flush=True)"
   ]
  },
  {
   "cell_type": "code",
   "execution_count": null,
   "metadata": {},
   "outputs": [],
   "source": [
    "umap_vis(LargeVis_FMNIST, fmnistReducedTarget , 'FMNIST')"
   ]
  },
  {
   "cell_type": "markdown",
   "metadata": {},
   "source": [
    "### LargeVis on MNIST performance measurement"
   ]
  },
  {
   "cell_type": "code",
   "execution_count": null,
   "metadata": {},
   "outputs": [],
   "source": [
    "%%time\n",
    "distance_mnist_largeVis = calc_distance(LargeVis_MNIST, mnistReducedTarget.to_numpy())"
   ]
  },
  {
   "cell_type": "code",
   "execution_count": null,
   "metadata": {},
   "outputs": [],
   "source": [
    "plot_distances_heatmap(distance_mnist_largeVis, 'MNIST', 'UMAP')"
   ]
  },
  {
   "cell_type": "code",
   "execution_count": null,
   "metadata": {},
   "outputs": [],
   "source": [
    "print(f'Performance metric for largeVis method on MNIST dataset')\n",
    "print(f'{calc_performance_metric(distance_mnist_largeVis):.4f}')"
   ]
  },
  {
   "cell_type": "markdown",
   "metadata": {},
   "source": [
    "### LargeVis on fashion-MNIST performance measurement"
   ]
  },
  {
   "cell_type": "code",
   "execution_count": null,
   "metadata": {},
   "outputs": [],
   "source": [
    "%%time\n",
    "distance_fmnist_largeVis = calc_distance(LargeVis_FMNIST, fmnist.target.to_numpy())"
   ]
  },
  {
   "cell_type": "code",
   "execution_count": null,
   "metadata": {},
   "outputs": [],
   "source": [
    "plot_distances_heatmap(distance_fmnist_largeVis, 'fashion-MNIST', 'largeVis')"
   ]
  },
  {
   "cell_type": "code",
   "execution_count": null,
   "metadata": {},
   "outputs": [],
   "source": [
    "print(f'Performance metric for largeVis method on f-MNIST dataset')\n",
    "print(f'{calc_performance_metric(distance_fmnist_largeVis):.4f}')"
   ]
  },
  {
   "cell_type": "code",
   "execution_count": null,
   "metadata": {},
   "outputs": [],
   "source": []
  },
  {
   "cell_type": "code",
   "execution_count": null,
   "metadata": {},
   "outputs": [],
   "source": []
  }
 ],
 "metadata": {
  "kernelspec": {
   "display_name": "Python 3",
   "language": "python",
   "name": "python3"
  },
  "language_info": {
   "codemirror_mode": {
    "name": "ipython",
    "version": 3
   },
   "file_extension": ".py",
   "mimetype": "text/x-python",
   "name": "python",
   "nbconvert_exporter": "python",
   "pygments_lexer": "ipython3",
   "version": "3.7.10"
  },
  "varInspector": {
   "cols": {
    "lenName": 16,
    "lenType": 16,
    "lenVar": 40
   },
   "kernels_config": {
    "python": {
     "delete_cmd_postfix": "",
     "delete_cmd_prefix": "del ",
     "library": "var_list.py",
     "varRefreshCmd": "print(var_dic_list())"
    },
    "r": {
     "delete_cmd_postfix": ") ",
     "delete_cmd_prefix": "rm(",
     "library": "var_list.r",
     "varRefreshCmd": "cat(var_dic_list()) "
    }
   },
   "types_to_exclude": [
    "module",
    "function",
    "builtin_function_or_method",
    "instance",
    "_Feature"
   ],
   "window_display": false
  }
 },
 "nbformat": 4,
 "nbformat_minor": 4
}

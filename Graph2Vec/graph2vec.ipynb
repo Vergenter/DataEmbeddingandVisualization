{
 "cells": [
  {
   "cell_type": "code",
   "execution_count": 89,
   "metadata": {
    "tags": []
   },
   "outputs": [],
   "source": [
    "# Wczytać dane netflixa\n",
    "# Stworzyć grafy reżyserzy aktorzy\n",
    "# similarity matrix\n",
    "# heat map"
   ]
  },
  {
   "cell_type": "code",
   "execution_count": 90,
   "metadata": {},
   "outputs": [
    {
     "name": "stdout",
     "output_type": "stream",
     "text": [
      "7787\n"
     ]
    },
    {
     "data": {
      "text/html": [
       "<div>\n",
       "<style scoped>\n",
       "    .dataframe tbody tr th:only-of-type {\n",
       "        vertical-align: middle;\n",
       "    }\n",
       "\n",
       "    .dataframe tbody tr th {\n",
       "        vertical-align: top;\n",
       "    }\n",
       "\n",
       "    .dataframe thead th {\n",
       "        text-align: right;\n",
       "    }\n",
       "</style>\n",
       "<table border=\"1\" class=\"dataframe\">\n",
       "  <thead>\n",
       "    <tr style=\"text-align: right;\">\n",
       "      <th></th>\n",
       "      <th>show_id</th>\n",
       "      <th>type</th>\n",
       "      <th>title</th>\n",
       "      <th>director</th>\n",
       "      <th>cast</th>\n",
       "      <th>country</th>\n",
       "      <th>date_added</th>\n",
       "      <th>release_year</th>\n",
       "      <th>rating</th>\n",
       "      <th>duration</th>\n",
       "      <th>listed_in</th>\n",
       "      <th>description</th>\n",
       "    </tr>\n",
       "  </thead>\n",
       "  <tbody>\n",
       "    <tr>\n",
       "      <th>0</th>\n",
       "      <td>s1</td>\n",
       "      <td>TV Show</td>\n",
       "      <td>3%</td>\n",
       "      <td>NaN</td>\n",
       "      <td>João Miguel, Bianca Comparato, Michel Gomes, R...</td>\n",
       "      <td>Brazil</td>\n",
       "      <td>August 14, 2020</td>\n",
       "      <td>2020</td>\n",
       "      <td>TV-MA</td>\n",
       "      <td>4 Seasons</td>\n",
       "      <td>International TV Shows, TV Dramas, TV Sci-Fi &amp;...</td>\n",
       "      <td>In a future where the elite inhabit an island ...</td>\n",
       "    </tr>\n",
       "    <tr>\n",
       "      <th>1</th>\n",
       "      <td>s2</td>\n",
       "      <td>Movie</td>\n",
       "      <td>7:19</td>\n",
       "      <td>Jorge Michel Grau</td>\n",
       "      <td>Demián Bichir, Héctor Bonilla, Oscar Serrano, ...</td>\n",
       "      <td>Mexico</td>\n",
       "      <td>December 23, 2016</td>\n",
       "      <td>2016</td>\n",
       "      <td>TV-MA</td>\n",
       "      <td>93 min</td>\n",
       "      <td>Dramas, International Movies</td>\n",
       "      <td>After a devastating earthquake hits Mexico Cit...</td>\n",
       "    </tr>\n",
       "    <tr>\n",
       "      <th>2</th>\n",
       "      <td>s3</td>\n",
       "      <td>Movie</td>\n",
       "      <td>23:59</td>\n",
       "      <td>Gilbert Chan</td>\n",
       "      <td>Tedd Chan, Stella Chung, Henley Hii, Lawrence ...</td>\n",
       "      <td>Singapore</td>\n",
       "      <td>December 20, 2018</td>\n",
       "      <td>2011</td>\n",
       "      <td>R</td>\n",
       "      <td>78 min</td>\n",
       "      <td>Horror Movies, International Movies</td>\n",
       "      <td>When an army recruit is found dead, his fellow...</td>\n",
       "    </tr>\n",
       "    <tr>\n",
       "      <th>3</th>\n",
       "      <td>s4</td>\n",
       "      <td>Movie</td>\n",
       "      <td>9</td>\n",
       "      <td>Shane Acker</td>\n",
       "      <td>Elijah Wood, John C. Reilly, Jennifer Connelly...</td>\n",
       "      <td>United States</td>\n",
       "      <td>November 16, 2017</td>\n",
       "      <td>2009</td>\n",
       "      <td>PG-13</td>\n",
       "      <td>80 min</td>\n",
       "      <td>Action &amp; Adventure, Independent Movies, Sci-Fi...</td>\n",
       "      <td>In a postapocalyptic world, rag-doll robots hi...</td>\n",
       "    </tr>\n",
       "    <tr>\n",
       "      <th>4</th>\n",
       "      <td>s5</td>\n",
       "      <td>Movie</td>\n",
       "      <td>21</td>\n",
       "      <td>Robert Luketic</td>\n",
       "      <td>Jim Sturgess, Kevin Spacey, Kate Bosworth, Aar...</td>\n",
       "      <td>United States</td>\n",
       "      <td>January 1, 2020</td>\n",
       "      <td>2008</td>\n",
       "      <td>PG-13</td>\n",
       "      <td>123 min</td>\n",
       "      <td>Dramas</td>\n",
       "      <td>A brilliant group of students become card-coun...</td>\n",
       "    </tr>\n",
       "  </tbody>\n",
       "</table>\n",
       "</div>"
      ],
      "text/plain": [
       "  show_id     type  title           director  \\\n",
       "0      s1  TV Show     3%                NaN   \n",
       "1      s2    Movie   7:19  Jorge Michel Grau   \n",
       "2      s3    Movie  23:59       Gilbert Chan   \n",
       "3      s4    Movie      9        Shane Acker   \n",
       "4      s5    Movie     21     Robert Luketic   \n",
       "\n",
       "                                                cast        country  \\\n",
       "0  João Miguel, Bianca Comparato, Michel Gomes, R...         Brazil   \n",
       "1  Demián Bichir, Héctor Bonilla, Oscar Serrano, ...         Mexico   \n",
       "2  Tedd Chan, Stella Chung, Henley Hii, Lawrence ...      Singapore   \n",
       "3  Elijah Wood, John C. Reilly, Jennifer Connelly...  United States   \n",
       "4  Jim Sturgess, Kevin Spacey, Kate Bosworth, Aar...  United States   \n",
       "\n",
       "          date_added  release_year rating   duration  \\\n",
       "0    August 14, 2020          2020  TV-MA  4 Seasons   \n",
       "1  December 23, 2016          2016  TV-MA     93 min   \n",
       "2  December 20, 2018          2011      R     78 min   \n",
       "3  November 16, 2017          2009  PG-13     80 min   \n",
       "4    January 1, 2020          2008  PG-13    123 min   \n",
       "\n",
       "                                           listed_in  \\\n",
       "0  International TV Shows, TV Dramas, TV Sci-Fi &...   \n",
       "1                       Dramas, International Movies   \n",
       "2                Horror Movies, International Movies   \n",
       "3  Action & Adventure, Independent Movies, Sci-Fi...   \n",
       "4                                             Dramas   \n",
       "\n",
       "                                         description  \n",
       "0  In a future where the elite inhabit an island ...  \n",
       "1  After a devastating earthquake hits Mexico Cit...  \n",
       "2  When an army recruit is found dead, his fellow...  \n",
       "3  In a postapocalyptic world, rag-doll robots hi...  \n",
       "4  A brilliant group of students become card-coun...  "
      ]
     },
     "execution_count": 90,
     "metadata": {},
     "output_type": "execute_result"
    }
   ],
   "source": [
    "import pandas as pd\n",
    "filename = 'Graph2Vec//netflix_titles.csv' \n",
    "df = pd.read_csv(filename)\n",
    "print(df.shape[0])\n",
    "df.head()"
   ]
  },
  {
   "cell_type": "code",
   "execution_count": 195,
   "metadata": {},
   "outputs": [
    {
     "name": "stdout",
     "output_type": "stream",
     "text": [
      "43959\n"
     ]
    },
    {
     "data": {
      "text/html": [
       "<div>\n",
       "<style scoped>\n",
       "    .dataframe tbody tr th:only-of-type {\n",
       "        vertical-align: middle;\n",
       "    }\n",
       "\n",
       "    .dataframe tbody tr th {\n",
       "        vertical-align: top;\n",
       "    }\n",
       "\n",
       "    .dataframe thead th {\n",
       "        text-align: right;\n",
       "    }\n",
       "</style>\n",
       "<table border=\"1\" class=\"dataframe\">\n",
       "  <thead>\n",
       "    <tr style=\"text-align: right;\">\n",
       "      <th></th>\n",
       "      <th>show_id</th>\n",
       "      <th>type</th>\n",
       "      <th>title</th>\n",
       "      <th>director</th>\n",
       "      <th>cast</th>\n",
       "      <th>country</th>\n",
       "      <th>date_added</th>\n",
       "      <th>release_year</th>\n",
       "      <th>rating</th>\n",
       "      <th>duration</th>\n",
       "      <th>listed_in</th>\n",
       "      <th>description</th>\n",
       "    </tr>\n",
       "  </thead>\n",
       "  <tbody>\n",
       "    <tr>\n",
       "      <th>1</th>\n",
       "      <td>s2</td>\n",
       "      <td>Movie</td>\n",
       "      <td>7:19</td>\n",
       "      <td>Jorge Michel Grau</td>\n",
       "      <td>Demián Bichir</td>\n",
       "      <td>Mexico</td>\n",
       "      <td>December 23, 2016</td>\n",
       "      <td>2016</td>\n",
       "      <td>TV-MA</td>\n",
       "      <td>93 min</td>\n",
       "      <td>Dramas, International Movies</td>\n",
       "      <td>After a devastating earthquake hits Mexico Cit...</td>\n",
       "    </tr>\n",
       "    <tr>\n",
       "      <th>1</th>\n",
       "      <td>s2</td>\n",
       "      <td>Movie</td>\n",
       "      <td>7:19</td>\n",
       "      <td>Jorge Michel Grau</td>\n",
       "      <td>Héctor Bonilla</td>\n",
       "      <td>Mexico</td>\n",
       "      <td>December 23, 2016</td>\n",
       "      <td>2016</td>\n",
       "      <td>TV-MA</td>\n",
       "      <td>93 min</td>\n",
       "      <td>Dramas, International Movies</td>\n",
       "      <td>After a devastating earthquake hits Mexico Cit...</td>\n",
       "    </tr>\n",
       "    <tr>\n",
       "      <th>1</th>\n",
       "      <td>s2</td>\n",
       "      <td>Movie</td>\n",
       "      <td>7:19</td>\n",
       "      <td>Jorge Michel Grau</td>\n",
       "      <td>Oscar Serrano</td>\n",
       "      <td>Mexico</td>\n",
       "      <td>December 23, 2016</td>\n",
       "      <td>2016</td>\n",
       "      <td>TV-MA</td>\n",
       "      <td>93 min</td>\n",
       "      <td>Dramas, International Movies</td>\n",
       "      <td>After a devastating earthquake hits Mexico Cit...</td>\n",
       "    </tr>\n",
       "    <tr>\n",
       "      <th>1</th>\n",
       "      <td>s2</td>\n",
       "      <td>Movie</td>\n",
       "      <td>7:19</td>\n",
       "      <td>Jorge Michel Grau</td>\n",
       "      <td>Azalia Ortiz</td>\n",
       "      <td>Mexico</td>\n",
       "      <td>December 23, 2016</td>\n",
       "      <td>2016</td>\n",
       "      <td>TV-MA</td>\n",
       "      <td>93 min</td>\n",
       "      <td>Dramas, International Movies</td>\n",
       "      <td>After a devastating earthquake hits Mexico Cit...</td>\n",
       "    </tr>\n",
       "    <tr>\n",
       "      <th>1</th>\n",
       "      <td>s2</td>\n",
       "      <td>Movie</td>\n",
       "      <td>7:19</td>\n",
       "      <td>Jorge Michel Grau</td>\n",
       "      <td>Octavio Michel</td>\n",
       "      <td>Mexico</td>\n",
       "      <td>December 23, 2016</td>\n",
       "      <td>2016</td>\n",
       "      <td>TV-MA</td>\n",
       "      <td>93 min</td>\n",
       "      <td>Dramas, International Movies</td>\n",
       "      <td>After a devastating earthquake hits Mexico Cit...</td>\n",
       "    </tr>\n",
       "  </tbody>\n",
       "</table>\n",
       "</div>"
      ],
      "text/plain": [
       "  show_id   type title           director            cast country  \\\n",
       "1      s2  Movie  7:19  Jorge Michel Grau   Demián Bichir  Mexico   \n",
       "1      s2  Movie  7:19  Jorge Michel Grau  Héctor Bonilla  Mexico   \n",
       "1      s2  Movie  7:19  Jorge Michel Grau   Oscar Serrano  Mexico   \n",
       "1      s2  Movie  7:19  Jorge Michel Grau    Azalia Ortiz  Mexico   \n",
       "1      s2  Movie  7:19  Jorge Michel Grau  Octavio Michel  Mexico   \n",
       "\n",
       "          date_added  release_year rating duration  \\\n",
       "1  December 23, 2016          2016  TV-MA   93 min   \n",
       "1  December 23, 2016          2016  TV-MA   93 min   \n",
       "1  December 23, 2016          2016  TV-MA   93 min   \n",
       "1  December 23, 2016          2016  TV-MA   93 min   \n",
       "1  December 23, 2016          2016  TV-MA   93 min   \n",
       "\n",
       "                      listed_in  \\\n",
       "1  Dramas, International Movies   \n",
       "1  Dramas, International Movies   \n",
       "1  Dramas, International Movies   \n",
       "1  Dramas, International Movies   \n",
       "1  Dramas, International Movies   \n",
       "\n",
       "                                         description  \n",
       "1  After a devastating earthquake hits Mexico Cit...  \n",
       "1  After a devastating earthquake hits Mexico Cit...  \n",
       "1  After a devastating earthquake hits Mexico Cit...  \n",
       "1  After a devastating earthquake hits Mexico Cit...  \n",
       "1  After a devastating earthquake hits Mexico Cit...  "
      ]
     },
     "execution_count": 195,
     "metadata": {},
     "output_type": "execute_result"
    }
   ],
   "source": [
    "df=df[~(df.cast.isnull() | df.director.isnull())]\n",
    "df=df.assign(cast=df['cast'].str.split(', ')).explode('cast')\n",
    "df=df.assign(director=df['director'].str.split(', ')).explode('director')\n",
    "# df=df[df[\"director\"]!=df['cast']]\n",
    "print(df.shape[0])\n",
    "df.head()"
   ]
  },
  {
   "cell_type": "code",
   "execution_count": 208,
   "metadata": {
    "tags": []
   },
   "outputs": [],
   "source": [
    "import networkx as nx\n",
    "def createGraph(df):\n",
    "    G = nx.Graph()\n",
    "    nodes = [(i, {\"feature\": actor}) for i,actor in enumerate(df.cast)]\n",
    "    G.add_nodes_from(nodes)\n",
    "    G.add_nodes_from([(len(nodes),{\"feature\": df[\"director\"].values[0]})])\n",
    "    G.add_edges_from([(df.shape[0],i) for i in range(df.shape[0])])\n",
    "    attributes = {i:actor for i,actor in enumerate(df.cast)}\n",
    "    attributes[len(nodes)]=df[\"director\"].values[0]\n",
    "    nx.set_node_attributes(G, attributes, \"feature\")\n",
    "    return G\n",
    "    \n",
    "df_grouped_by_directors = [b for _,b in df.groupby(\"director\")]\n",
    "graphs = [createGraph(b) for b in df_grouped_by_directors]"
   ]
  },
  {
   "cell_type": "code",
   "execution_count": 209,
   "metadata": {},
   "outputs": [],
   "source": [
    "def check(graph):\n",
    "    numeric_indices = [index for index in range(graph.number_of_nodes())]\n",
    "    print(numeric_indices)\n",
    "    node_indices = sorted([node for node in graph.nodes()])\n",
    "    print(node_indices)\n",
    "    return numeric_indices == node_indices, \"The node indexing is wrong.\""
   ]
  },
  {
   "cell_type": "code",
   "execution_count": 210,
   "metadata": {},
   "outputs": [
    {
     "name": "stdout",
     "output_type": "stream",
     "text": [
      "[0, 1, 2, 3, 4, 5, 6, 7, 8, 9, 10, 11, 12, 13, 14]\n",
      "[0, 1, 2, 3, 4, 5, 6, 7, 8, 9, 10, 11, 12, 13, 14]\n"
     ]
    },
    {
     "data": {
      "text/plain": [
       "(True, 'The node indexing is wrong.')"
      ]
     },
     "execution_count": 210,
     "metadata": {},
     "output_type": "execute_result"
    }
   ],
   "source": [
    "check(graphs[0])"
   ]
  },
  {
   "cell_type": "code",
   "execution_count": 212,
   "metadata": {},
   "outputs": [
    {
     "name": "stderr",
     "output_type": "stream",
     "text": [
      "/home/vergenter/anaconda3/lib/python3.8/site-packages/gensim/models/doc2vec.py:315: UserWarning: The parameter `iter` is deprecated, will be removed in 4.0.0, use `epochs` instead.\n",
      "  warnings.warn(\"The parameter `iter` is deprecated, will be removed in 4.0.0, use `epochs` instead.\")\n"
     ]
    },
    {
     "data": {
      "text/plain": [
       "array([[-2.91380309e-03, -1.35324663e-03, -1.03664761e-05, ...,\n",
       "        -2.17152364e-03,  2.86015944e-04,  4.88539401e-04],\n",
       "       [-2.99250358e-03, -2.53576483e-03, -2.06718012e-03, ...,\n",
       "         2.69725895e-03,  9.88913816e-04, -7.18324329e-04],\n",
       "       [ 2.08024913e-03,  6.45328662e-04,  1.21518492e-03, ...,\n",
       "         2.35074526e-03, -2.36135558e-03, -2.73377635e-03],\n",
       "       ...,\n",
       "       [ 1.35444594e-03, -3.52715421e-03, -1.82645943e-03, ...,\n",
       "        -1.03303546e-03, -4.48897568e-04,  1.96003541e-03],\n",
       "       [-3.22611211e-03, -3.81857087e-03,  2.69583846e-03, ...,\n",
       "        -8.86123336e-04, -2.15336075e-03,  1.11729154e-04],\n",
       "       [ 1.41963450e-04, -2.51418655e-03,  3.18219396e-03, ...,\n",
       "        -3.70316952e-03, -1.95360044e-03,  1.52877939e-03]], dtype=float32)"
      ]
     },
     "execution_count": 212,
     "metadata": {},
     "output_type": "execute_result"
    }
   ],
   "source": [
    "from karateclub.graph_embedding import Graph2Vec\n",
    "model = Graph2Vec(attributed=True)\n",
    "model.fit(graphs)\n",
    "model.get_embedding()"
   ]
  },
  {
   "cell_type": "code",
   "execution_count": 213,
   "metadata": {},
   "outputs": [
    {
     "data": {
      "text/plain": [
       "(4061, 128)"
      ]
     },
     "execution_count": 213,
     "metadata": {},
     "output_type": "execute_result"
    }
   ],
   "source": [
    "np.shape(model.get_embedding())"
   ]
  },
  {
   "cell_type": "code",
   "execution_count": 214,
   "metadata": {},
   "outputs": [],
   "source": [
    "from scipy.spatial.distance import pdist,squareform\n",
    "distances = squareform(pdist(np.array(model.get_embedding())))"
   ]
  },
  {
   "cell_type": "code",
   "execution_count": 249,
   "metadata": {},
   "outputs": [
    {
     "data": {
      "text/plain": [
       "array([[0.        , 0.0347964 , 0.0361065 , 0.03256572, 0.03500944],\n",
       "       [0.0347964 , 0.        , 0.03670608, 0.03718825, 0.03738989],\n",
       "       [0.0361065 , 0.03670608, 0.        , 0.03962798, 0.03786426],\n",
       "       [0.03256572, 0.03718825, 0.03962798, 0.        , 0.03359871],\n",
       "       [0.03500944, 0.03738989, 0.03786426, 0.03359871, 0.        ]])"
      ]
     },
     "execution_count": 249,
     "metadata": {},
     "output_type": "execute_result"
    }
   ],
   "source": [
    "distances[:5,:5]"
   ]
  },
  {
   "cell_type": "code",
   "execution_count": 245,
   "metadata": {},
   "outputs": [],
   "source": [
    "from numba import njit,int64\n",
    "@njit\n",
    "def find_n_smallest_values(ndarray_2, n_values,skip=0):\n",
    "    indices = np.zeros((n_values,2),dtype=int64)\n",
    "    smallest = np.ones(n_values) * np.inf\n",
    "    for i in range(ndarray_2.shape[0]):\n",
    "        for j in range(ndarray_2.shape[1]):\n",
    "            if ndarray_2[i][j] != skip:\n",
    "                for k in range(n_values+1):\n",
    "                    if k != n_values and ndarray_2[i][j]<smallest[k]:\n",
    "                        continue\n",
    "                    if k == 0:\n",
    "                        break\n",
    "                    for l in range(k-1):\n",
    "                        indices[l][0]=indices[l+1][0]\n",
    "                        indices[l][1]=indices[l+1][1]\n",
    "                        smallest[l]=smallest[l+1]\n",
    "                    indices[k-1][0]=i\n",
    "                    indices[k-1][1]=j\n",
    "                    smallest[k-1]=ndarray_2[i][j]\n",
    "                    break\n",
    "    return indices   "
   ]
  },
  {
   "cell_type": "code",
   "execution_count": 246,
   "metadata": {},
   "outputs": [
    {
     "name": "stdout",
     "output_type": "stream",
     "text": [
      "[3, 3, 2, 2, 1]\n"
     ]
    }
   ],
   "source": [
    "test_table = np.array([[0,0,0],[1,2,3],[2,3,4],[3,4,5]])\n",
    "res = find_n_smallest_values(test_table,5)\n",
    "print([test_table[ind[0]][ind[1]] for ind in res])"
   ]
  },
  {
   "cell_type": "code",
   "execution_count": 247,
   "metadata": {},
   "outputs": [],
   "source": [
    "most_similar = find_n_smallest_values(distances,20)[1::2] # distance are pairwise then skip odds"
   ]
  },
  {
   "cell_type": "code",
   "execution_count": 248,
   "metadata": {},
   "outputs": [
    {
     "name": "stdout",
     "output_type": "stream",
     "text": [
      "director 1: Robert Clouse\n",
      "['Bruce Lee' 'John Saxon' 'Jim Kelly' 'Ahna Capri' 'Kien Shih'\n",
      " 'Robert Wall' 'Angela Mao' 'Betty Chung' 'Geoffrey Weeks' 'Bolo Yeung'\n",
      " 'Peter Archer']\n",
      "director 2: Ryuichi Yagi\n",
      "['Takeru Sato' 'Kasumi Arimura' 'Haru' 'Kentaro Sakaguchi'\n",
      " 'Takayuki Yamada' 'Kendo Kobayashi' 'Ken Yasuda' 'Arata Furuta'\n",
      " 'Suzuki Matsuo' 'Koichi Yamadera' 'Arata Iura' 'Chikako Kaku'\n",
      " 'Kotaro Yoshida']\n",
      "\n",
      "director 1: Ali Samadi Ahadi\n",
      "['Stefan Kurt' 'Marianne Sägebrecht' 'Max Herbrechter']\n",
      "director 2: David M. Rosenthal\n",
      "['Theo James' 'Forest Whitaker' 'Kat Graham' 'Nicole Ari Parker'\n",
      " \"Mark O'Brien\" 'Grace Dove' 'Michael Ealy' 'Jesse Williams'\n",
      " 'Nicole Beharie' 'Guy Burnet' 'Joseph Sikora' 'Karla Souza'\n",
      " 'Ritchie Coster' 'Jon Eyez']\n",
      "\n",
      "director 1: Jared Hess\n",
      "['Sam Rockwell' 'Amy Ryan' 'Will Forte' 'Danny McBride' 'Jemaine Clement'\n",
      " 'Leslie Bibb' 'Steve Park' 'Sky Elobar' 'P.J. Boudousqué' 'Yaniv Moyal'\n",
      " 'Jack Black' 'Ana de la Reguera' 'Héctor Jiménez' 'Darius Rose'\n",
      " 'Moises Arias' 'Diego Eduardo Gomez' 'Carlos Maycotte' 'Richard Montoya'\n",
      " 'Cesar Gonzalez' 'Rafael Montalvo']\n",
      "director 2: John Lyde\n",
      "['Matthew Reese' 'Dolph Lundgren' 'Danielle Chuchran' 'Chuck Liddell'\n",
      " 'Michael Flynn' 'Renny Grames' 'Eve Mauro' 'Melanie Stone'\n",
      " 'Michaela McAllister' 'Amy Sturdivant']\n",
      "\n",
      "director 1: Kagiso Lediga\n",
      "['Kagiso Lediga' 'Pearl Thusi' 'Akin Omotoso' 'Andrew Buckland']\n",
      "director 2: Madeleine Parry\n",
      "['Hannah Gadsby' 'Hannah Gadsby']\n",
      "\n",
      "director 1: Adam B. Stein\n",
      "['Emile Hirsch' 'Bruce Dern' 'Lexy Kolker' 'Grace Park' 'Amanda Crew'\n",
      " 'Aleks Paunovic' 'Michelle Harrison']\n",
      "director 2: Birkan Pusa\n",
      "['Ahmet Kural' 'Murat Cemcir' 'Rasim Öztekin' 'Devrim Yakut'\n",
      " 'Barış Yıldız' 'Ulaş Torun' 'Zerrin Sümer' 'Şinasi Yurtsever']\n",
      "\n",
      "director 1: Alex Israel\n",
      "['Carson Meyer' 'Noah Centineo' 'Bianca Santos' 'Jackson White'\n",
      " 'Sean Russel Herman' 'Rosanna Arquette' 'Molly Ringwald'\n",
      " 'Pamela Anderson' 'Keanu Reeves' 'Goldie Hawn']\n",
      "director 2: Austin Peck\n",
      "['Kristin Davis' 'Daphne Sheldrick' 'Nick Trent' 'Julious Shivenga'\n",
      " 'Benjamin Kyalo']\n",
      "\n",
      "director 1: Luis Javier M. Henaine\n",
      "['Luis Arrieta' 'Cassandra Ciangherotti' 'Humberto Busto' 'Iván Arana'\n",
      " 'Bárbara de Regil' 'Miguel Rodarte']\n",
      "director 2: Tanveer Khan\n",
      "['Irrfan Khan' 'Konkona Sen Sharma' 'Rajit Kapoor' 'Sandhya Mridul'\n",
      " 'Zakir Hussain' 'Rajeev Verma' 'Princey Shukla']\n",
      "\n",
      "director 1: Archie Borders\n",
      "['Matt Walsh' 'Judith Godreche' 'Reid Scott' 'Michaela Watkins'\n",
      " 'David Wain' 'Gary Cole']\n",
      "director 2: William Bindley\n",
      "['K.J. Apa' 'Maia Mitchell' 'Tyler Posey' 'Jacob Latimore' 'Halston Sage'\n",
      " 'Wolfgang Novogratz' 'Sosie Bacon' 'Jacob McCarthy' 'Mario Revolori'\n",
      " 'Gage Golightly' 'Audrey Grace Marshall']\n",
      "\n",
      "director 1: Barry Sonnenfeld\n",
      "['Tommy Lee Jones' 'Will Smith' 'Linda Fiorentino' \"Vincent D'Onofrio\"\n",
      " 'Rip Torn' 'Tony Shalhoub' 'Siobhan Fallon Hogan' 'Mike Nussbaum'\n",
      " 'Jon Gries' 'Sergio Calderón' 'Tommy Lee Jones' 'Will Smith' 'Rip Torn'\n",
      " 'Lara Flynn Boyle' 'Johnny Knoxville' 'Rosario Dawson' 'Tony Shalhoub'\n",
      " 'Patrick Warburton' 'Jack Kehler' 'David Cross' 'Will Smith'\n",
      " 'Kevin Kline' 'Kenneth Branagh' 'Salma Hayek' 'M. Emmet Walsh'\n",
      " 'Ted Levine' 'Frederique Van Der Wal' 'Musetta Vander' 'Sofia Eng'\n",
      " 'Bai Ling']\n",
      "director 2: Charles Uwagbai\n",
      "['Toyin Abraham' 'Sambasa Nzeribe' 'Chioma Chukwuka Akpotha'\n",
      " 'Chioma Omeruah' 'Chiwetalu Agu' 'Dele Odule' 'Femi Adebayo'\n",
      " 'Bayray McNwizu' 'Biodun Stephen']\n",
      "\n",
      "director 1: Bobby Roth\n",
      "['Shen Lin' 'Robert Patrick' 'Zhu Zhu' \"Jodi Lyn O'Keefe\" 'Robert Knepper'\n",
      " 'Amaury Nolasco' 'Rockmond Dunbar' 'Andy Mackenzie' 'Robert Crayton'\n",
      " 'John Edward Lee' 'Trent Brya']\n",
      "director 2: Dave Green\n",
      "['Teo Halm' 'Astro' 'Reese Hartwig' 'Ella Wahlestedt'\n",
      " 'Jason Gray-Stanford' 'Algee Smith' 'Cassius Willis' 'Sonya Leslie'\n",
      " \"Kerry O'Malley\" 'Virginia Louise Smith' 'Peter Mackenzie'\n",
      " 'Valerie Wildman']\n",
      "\n"
     ]
    }
   ],
   "source": [
    "for indices in most_similar:\n",
    "    print(\"director 1:\",df_grouped_by_directors[indices[0]].director.values[0])\n",
    "    print(df_grouped_by_directors[indices[0]].cast.values)\n",
    "    print(\"director 2:\",df_grouped_by_directors[indices[1]].director.values[0])\n",
    "    print(df_grouped_by_directors[indices[1]].cast.values)\n",
    "    print()\n",
    "    "
   ]
  },
  {
   "cell_type": "code",
   "execution_count": 250,
   "metadata": {},
   "outputs": [
    {
     "data": {
      "text/plain": [
       "<matplotlib.image.AxesImage at 0x7fca416c4dc0>"
      ]
     },
     "execution_count": 250,
     "metadata": {},
     "output_type": "execute_result"
    },
    {
     "data": {
      "image/png": "[encoded data removed]",
      "text/plain": [
       "<Figure size 1512x1512 with 1 Axes>"
      ]
     },
     "metadata": {},
     "output_type": "display_data"
    }
   ],
   "source": [
    "plt.figure(figsize=(21,21))\n",
    "plt.imshow(distances[:100,:100], cmap='hot')"
   ]
  },
  {
   "cell_type": "code",
   "execution_count": 223,
   "metadata": {},
   "outputs": [
    {
     "name": "stderr",
     "output_type": "stream",
     "text": [
      "/home/vergenter/anaconda3/lib/python3.8/site-packages/gensim/models/doc2vec.py:315: UserWarning: The parameter `iter` is deprecated, will be removed in 4.0.0, use `epochs` instead.\n",
      "  warnings.warn(\"The parameter `iter` is deprecated, will be removed in 4.0.0, use `epochs` instead.\")\n"
     ]
    },
    {
     "data": {
      "text/plain": [
       "array([[ 0.00696738, -0.05681495,  0.00811942, ..., -0.03874161,\n",
       "         0.02289277, -0.04707823],\n",
       "       [ 0.00790184, -0.06126606,  0.00610925, ..., -0.03640383,\n",
       "         0.0250558 , -0.05179067],\n",
       "       [ 0.01343524, -0.05940631,  0.00976055, ..., -0.03755679,\n",
       "         0.02242495, -0.0554034 ],\n",
       "       ...,\n",
       "       [ 0.01025409, -0.05498619,  0.01085543, ..., -0.0329295 ,\n",
       "         0.02444539, -0.04920947],\n",
       "       [ 0.0141275 , -0.06073234,  0.00559563, ..., -0.03583764,\n",
       "         0.02224053, -0.04819869],\n",
       "       [ 0.01241803, -0.06006369,  0.00844025, ..., -0.0413798 ,\n",
       "         0.02607889, -0.05211928]], dtype=float32)"
      ]
     },
     "execution_count": 223,
     "metadata": {},
     "output_type": "execute_result"
    }
   ],
   "source": [
    "import networkx as nx\n",
    "from karateclub.graph_embedding import Graph2Vec\n",
    "\n",
    "# Graph2Vec attributed example\n",
    "\n",
    "graphs = []\n",
    "\n",
    "for i in range(50):\n",
    "    graph = nx.newman_watts_strogatz_graph(50, 5, 0.3)\n",
    "    nx.set_node_attributes(graph, {j: str(j) for j in range(50)}, \"feature\")\n",
    "    graphs.append(graph)\n",
    "model = Graph2Vec(attributed=True)\n",
    "\n",
    "model.fit(graphs)\n",
    "model.get_embedding()\n",
    "\n",
    "\n",
    "# Graph2Vec generic example\n",
    "\n",
    "graphs = [nx.newman_watts_strogatz_graph(50, 5, 0.3) for _ in range(1000)]\n",
    "\n",
    "model = Graph2Vec()\n",
    "\n",
    "model.fit(graphs)\n",
    "model.get_embedding()"
   ]
  },
  {
   "cell_type": "code",
   "execution_count": 3,
   "metadata": {},
   "outputs": [
    {
     "data": {
      "text/plain": [
       "(1000, 128)"
      ]
     },
     "execution_count": 3,
     "metadata": {},
     "output_type": "execute_result"
    }
   ],
   "source": [
    "import numpy as np\n",
    "np.shape(model.get_embedding())"
   ]
  },
  {
   "cell_type": "code",
   "execution_count": null,
   "metadata": {},
   "outputs": [],
   "source": []
  }
 ],
 "metadata": {
  "kernelspec": {
   "display_name": "Python 3",
   "language": "python",
   "name": "python3"
  },
  "language_info": {
   "codemirror_mode": {
    "name": "ipython",
    "version": 3
   },
   "file_extension": ".py",
   "mimetype": "text/x-python",
   "name": "python",
   "nbconvert_exporter": "python",
   "pygments_lexer": "ipython3",
   "version": "3.8.5"
  }
 },
 "nbformat": 4,
 "nbformat_minor": 4
}
